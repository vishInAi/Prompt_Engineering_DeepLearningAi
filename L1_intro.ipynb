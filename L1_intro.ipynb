{
 "cells": [
  {
   "cell_type": "markdown",
   "metadata": {},
   "source": [
    "# Intro to DeepLearning.AI Prompt Engineering\n",
    "\n",
    "## L1 - Introduction\n",
    "\n",
    "#### __LLM__ \n",
    "\n",
    "_A **Large Language Model (LLM)** is an advanced AI system capable of understanding and generating human-like text, trained on extensive datasets using deep learning techniques. They perform various language tasks like translation and summarization due to their vast number of parameters and data exposure._\n",
    "\n",
    "#### __Types of LLM__\n",
    "\n",
    "1. ***Basic LLM***\n",
    "\n",
    "_Predicts next word, Based on text training data._\n",
    "\n",
    "**Example:**\n",
    "\n",
    "_we may type:_ **Once upon a Time, there was a Unicorn** \n",
    "\n",
    "_llm may suggest a few next lines based of training data:_ **that lived in a magical forest with all her unicorn friends**\n",
    "\n",
    "_It may look like this:_ **Once upon a Time, there was a Unicorn** *that lived in a magical forest with all her unicorn friends*\n",
    "\n",
    "`Note:`\n",
    "\n",
    "`_Sometimes it may give identical suggestions if the trained with less training data or no context which may result in Ambiguous results such as :_`\n",
    "\n",
    "_Prompt:_ **What is the capital of France?**\n",
    "\n",
    "_Result:_ \n",
    "- What is France's largest city?\n",
    "- What is France's Population?\n",
    "- What is the currency of France?\n",
    "\n",
    "**These errors are also known an Hallucinations.** _They happen if llm was trained with less context or less training data._"
   ]
  },
  {
   "cell_type": "markdown",
   "metadata": {},
   "source": [
    "2. ***Instruction Tuned LLM***\n",
    "\n",
    "_Tries to follow Instructions._\n",
    "\n",
    "_Fine-Tuned on instructions and good attempts at following those instructions._\n",
    "\n",
    "**RLHF:** _Reinforcement learning with Human Feedback_\n",
    "\n",
    "**Example:**\n",
    "\n",
    "_Prompt:_ **What is the capital of France?**\n",
    "\n",
    "_Output:_ _The Capital of France is Paris._\n",
    "\n",
    "***Helpful, Honest, Harmless*** _They wrote it not my fault 💀_\n",
    "\n"
   ]
  }
 ],
 "metadata": {
  "language_info": {
   "name": "python"
  }
 },
 "nbformat": 4,
 "nbformat_minor": 2
}
